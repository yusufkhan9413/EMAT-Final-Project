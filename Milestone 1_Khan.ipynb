{
 "cells": [
  {
   "cell_type": "markdown",
   "id": "f196b5e1-d793-4075-a8ea-84f1f0014a36",
   "metadata": {},
   "source": [
    "Mohammad Yusuf Khan\n",
    "\n",
    "811286910"
   ]
  },
  {
   "cell_type": "markdown",
   "id": "9c8e9a5d-201f-43b8-9556-c8b616ddcc9e",
   "metadata": {},
   "source": [
    "# Milestone 1 - Data cleaning\n",
    "\n",
    "Datasets is from from iflix datathon 2019.\n",
    "\n",
    "I found this dataset at kaggle and it is was used for the datathon 2019. I couldn't find the original source to the dataset. This dataset was provided for this competition and I found it on kaggle.\n",
    "\n",
    "Link to the dataset: \n",
    "\n",
    "https://www.kaggle.com/datasets/aungpyaeap/movie-streaming-datasets-iflix"
   ]
  },
  {
   "cell_type": "markdown",
   "id": "a77604f0-08a9-422d-b45f-97ac61040517",
   "metadata": {},
   "source": [
    "# Description of the datasets\n",
    "\n",
    "# users.csv\n",
    "\n",
    "User_id: Unique identifier of user\n",
    "\n",
    "Country_code: Country code where the user registered.\n",
    "\n",
    "# assets.csv\n",
    "\n",
    "Show_type: Type of content, whether the asset is a movie or an episode of a TV series\n",
    "\n",
    "Genre: Genre of content\n",
    "\n",
    "Running_miutes: Runtime of content (Playable number of minutes)\n",
    "\n",
    "Source_language: Production language of content\n",
    "\n",
    "Asset_id: Unique identifier of video content at the most granular level (a movie or an episode of a TV series)\n",
    "\n",
    "Season_id: Unique identifier of content at season level. This is only applicable to TV series\n",
    "\n",
    "Series_id: Unique identifier of content at series level. This is only applicable to TV series\n",
    "\n",
    "Studio_id: Unique identifier of production studio for the content\n",
    "\n",
    "# plays.csv\n",
    "\n",
    "Platform: Platform of consumption\n",
    "\n",
    "Minutes_viewed : Total number of minutes viewed, rounded to the nearest integer (0 means less than 30 seconds)\n",
    "\n",
    "# Demographics.csv Psychographics.csv\n",
    "\n",
    "The dataset identifies psychographic and demographic tags about some iflix users. Each user-tag pair has an associated confidence score (1 is the highest, and 0 is the lowest confidence). Each trait can have up to 3 levels, depending on its granularity. Some traits can be identified by only considering the first two levels. At the same time, there are others that make more sense when all the three levels are considered, e.g., ‘iflix Viewing Behaviour’ is a level 2 psychographic trait that only makes sense when it is looked at in combination with the level 3 traits corresponding to it (‘casual,’ ‘player’ and ‘addict’). These traits represent different levels of viewing behavior of iflix users. Casual users have less than five viewing days in a month, player users have 5 to 12 viewing days in a month, and people with an addiction have more than 12 viewing days in a month. Traits are available corresponding to a user_id in the dataset only if we have certain confidence that the user belongs to the trait.\n",
    "\n",
    "Column and Description\n",
    "\n",
    "Level_1: Identifies the first level of the trait (psychologic or demographic)\n",
    "\n",
    "Level_2: Identifies the second level of the trait (e.g., Music Lovers, Movies Lovers)\n",
    "\n",
    "Level_3 : Identifies the third level of the trait, if available/relevant (e.g. Malay Movies Lovers, Indonesian TV Fans)\n",
    "\n",
    "Confidence_score: Confidence in associating the said trait (level_1, level_2, level_3) with the uservel_2, level_3) with the userel_2, level_3) with the userevel_3) with the user"
   ]
  },
  {
   "cell_type": "code",
   "execution_count": null,
   "id": "0b23d7a2-0419-4127-b05d-c68d5fb4ba15",
   "metadata": {},
   "outputs": [],
   "source": [
    "import pandas as pd"
   ]
  },
  {
   "cell_type": "code",
   "execution_count": null,
   "id": "4ec61b7b-4440-444c-8396-3cb4f7ffb22a",
   "metadata": {},
   "outputs": [],
   "source": [
    "assets = pd.read_csv(\"assets.csv\")\n",
    "assets.head(1)"
   ]
  },
  {
   "cell_type": "code",
   "execution_count": null,
   "id": "daa0ea24-8063-420f-a052-080b5039911d",
   "metadata": {},
   "outputs": [],
   "source": [
    "demographics = pd.read_csv(\"demographics.csv\")\n",
    "demographics.head(1)"
   ]
  },
  {
   "cell_type": "code",
   "execution_count": null,
   "id": "ac1f2726-cc43-48d1-aa65-182af80a2259",
   "metadata": {},
   "outputs": [],
   "source": [
    "psychographics = pd.read_csv(\"psychographics.csv\")\n",
    "psychographics.head(1)"
   ]
  },
  {
   "cell_type": "code",
   "execution_count": null,
   "id": "db896002-95b9-4c29-a7c5-40be17714b06",
   "metadata": {},
   "outputs": [],
   "source": [
    "plays = pd.read_csv(\"plays.csv\")\n",
    "plays.head(1)"
   ]
  },
  {
   "cell_type": "code",
   "execution_count": null,
   "id": "22df2aab-17ba-44ea-aea1-77df8cbe9e57",
   "metadata": {},
   "outputs": [],
   "source": [
    "user = pd.read_csv(\"users.csv\")\n",
    "user.head(1)"
   ]
  },
  {
   "cell_type": "markdown",
   "id": "731ca0da-69f2-4dd4-9194-3b7eaa1478f9",
   "metadata": {},
   "source": [
    "# assets.csv"
   ]
  },
  {
   "cell_type": "code",
   "execution_count": null,
   "id": "52f29a39-123f-4181-910d-42feeb4ae9f9",
   "metadata": {},
   "outputs": [],
   "source": [
    "assets.shape"
   ]
  },
  {
   "cell_type": "code",
   "execution_count": null,
   "id": "01dade7a-7920-44df-8dfe-7770d8807e70",
   "metadata": {},
   "outputs": [],
   "source": [
    "assets.columns"
   ]
  },
  {
   "cell_type": "code",
   "execution_count": null,
   "id": "613057ca-a720-467f-a1ca-f088b9d01d82",
   "metadata": {},
   "outputs": [],
   "source": [
    "# Finding all the nan counts\n",
    "\n",
    "nan_counts = assets.isna().sum()\n",
    "print(\"NaN counts for each column:\")\n",
    "print(nan_counts)"
   ]
  },
  {
   "cell_type": "code",
   "execution_count": null,
   "id": "2e155f69-3fb0-437e-845b-2eac2ec10075",
   "metadata": {},
   "outputs": [],
   "source": [
    "# Defining the columns I want to retrieve unique values for\n",
    "\n",
    "columns_to_check = ['show_type', 'genre', 'source_language']\n",
    "\n",
    "# Loop through each specified column and print unique values\n",
    "\n",
    "for column in columns_to_check:\n",
    "    unique_values = assets[column].unique()\n",
    "    print(f\"Unique values in '{column}':\")\n",
    "    print(unique_values)\n",
    "    print(\"\\n\")"
   ]
  },
  {
   "cell_type": "markdown",
   "id": "249b371b-f205-4707-9ca5-14b58ff3ace5",
   "metadata": {},
   "source": [
    "Here I have organized columns in show_type, genre and source_language in ascending order. Also I have replaced all the NaN values in above columns to 0 for example for a particular genre there is no data available then I'm assuming there is no movie or tv show in that gener. For rest of the columns I kept NaN as NaN.\n",
    "\n",
    "Also I want to see how frequently a genre has been viewed."
   ]
  },
  {
   "cell_type": "code",
   "execution_count": null,
   "id": "d0bc267f-ce4c-488d-b3af-22b05bb1e9ea",
   "metadata": {},
   "outputs": [],
   "source": [
    "# Create a unique combination of 'show_type', 'genre', and 'source_language'\n",
    "combinations = assets[['show_type', 'genre', 'source_language']].drop_duplicates()\n",
    "\n",
    "# Merge with the original DataFrame to show all instances with the specified columns\n",
    "merged_data = combinations.merge(assets)\n",
    "\n",
    "# Fill missing values in the specified columns with 0\n",
    "merged_data[['show_type', 'genre', 'source_language']] = merged_data[['show_type', 'genre', 'source_language']].fillna(0)\n",
    "\n",
    "# Sort the DataFrame in ascending order by 'show_type', 'genre', and 'source_language'\n",
    "merged_data_assets = merged_data.sort_values(by=['show_type', 'genre', 'source_language'], ascending=True)\n",
    "\n",
    "# Display the result\n",
    "merged_data_assets"
   ]
  },
  {
   "cell_type": "markdown",
   "id": "c480b056-e2d0-46bf-879a-1b692a305138",
   "metadata": {},
   "source": [
    "Here I have grouped 3 columns by their frequency as I want to plot a relationship between show_type, genre, source_language"
   ]
  },
  {
   "cell_type": "code",
   "execution_count": null,
   "id": "e404ad0b-3dcb-4803-ae28-1bf5070c5566",
   "metadata": {},
   "outputs": [],
   "source": [
    "# Group the assets DataFrame by the specified levels\n",
    "group_by_assets = assets.groupby(['show_type', 'genre', 'source_language']).size()\n",
    "\n",
    "group_by_assets.head()"
   ]
  },
  {
   "cell_type": "code",
   "execution_count": null,
   "id": "8b4d929e-8bfa-46f3-8d9b-45a97d116a4d",
   "metadata": {},
   "outputs": [],
   "source": [
    "group_by_assets = assets.groupby(['show_type', 'genre', 'source_language']).size().unstack(fill_value=0)\n",
    "\n",
    "group_by_assets.head(1)"
   ]
  },
  {
   "cell_type": "markdown",
   "id": "7e0cbef6-ab5e-40f3-89b5-a01404109e4e",
   "metadata": {},
   "source": [
    "# demographics.csv"
   ]
  },
  {
   "cell_type": "code",
   "execution_count": null,
   "id": "a889bbe8-72bc-4096-9181-e1f0516a846c",
   "metadata": {},
   "outputs": [],
   "source": [
    "demographics.shape"
   ]
  },
  {
   "cell_type": "code",
   "execution_count": null,
   "id": "9cd35aef-8f85-47f4-8208-3f519da85921",
   "metadata": {},
   "outputs": [],
   "source": [
    "demographics.columns"
   ]
  },
  {
   "cell_type": "code",
   "execution_count": null,
   "id": "d6638552-14f7-461a-bf7f-a3f2dd21c8e6",
   "metadata": {},
   "outputs": [],
   "source": [
    "# getting NaN values for each column\n",
    "\n",
    "nan_counts = demographics.isna().sum()\n",
    "print(\"NaN counts for each column:\")\n",
    "print(nan_counts)"
   ]
  },
  {
   "cell_type": "markdown",
   "id": "fac902bb-3180-4a2a-be0d-d7fc40277798",
   "metadata": {},
   "source": [
    "Here I want to plot a visualization for the following: Income, Age, Gender and see how it has changed accross the platform."
   ]
  },
  {
   "cell_type": "code",
   "execution_count": null,
   "id": "7f44efaf-93c4-4fe0-99b2-5ffcadc917cf",
   "metadata": {},
   "outputs": [],
   "source": [
    "# Defining the columns I want to retrieve unique values for\n",
    "\n",
    "columns_to_check = ['platform', 'level_1', 'level_2', 'level_3']\n",
    "\n",
    "# Loop through each specified column and print unique values\n",
    "\n",
    "for column in columns_to_check:\n",
    "    unique_values = demographics[column].unique()\n",
    "    print(f\"Unique values in '{column}':\")\n",
    "    print(unique_values)\n",
    "    print(\"\\n\")"
   ]
  },
  {
   "cell_type": "code",
   "execution_count": null,
   "id": "2e424ecc-bea2-4796-9ac2-5c1450f90a64",
   "metadata": {},
   "outputs": [],
   "source": [
    "# Check for duplicate values in the 'country_name' column\n",
    "duplicates = demographics['user_id'].duplicated()\n",
    "\n",
    "# Display rows with duplicates\n",
    "print(demographics[duplicates])\n",
    "\n",
    "# If you want to check how many duplicate values are there:\n",
    "print(f\"Number of duplicate values: {duplicates.sum()}\")"
   ]
  },
  {
   "cell_type": "markdown",
   "id": "6b2a4b8e-5e03-46ec-9988-3e9f148fe10d",
   "metadata": {},
   "source": [
    "# psychographics"
   ]
  },
  {
   "cell_type": "code",
   "execution_count": null,
   "id": "02519039-4a0b-4bab-88d4-82947680a43f",
   "metadata": {},
   "outputs": [],
   "source": [
    "psychographics.shape"
   ]
  },
  {
   "cell_type": "code",
   "execution_count": null,
   "id": "a10a12aa-e24e-4f7b-8f74-c6e656fee927",
   "metadata": {},
   "outputs": [],
   "source": [
    "psychographics.columns"
   ]
  },
  {
   "cell_type": "code",
   "execution_count": null,
   "id": "5e4f1714-8e24-4e8c-97e9-b19abe57e334",
   "metadata": {},
   "outputs": [],
   "source": [
    "nan_counts = psychographics.isna().sum()\n",
    "print(\"NaN counts for each column:\")\n",
    "print(nan_counts)"
   ]
  },
  {
   "cell_type": "code",
   "execution_count": null,
   "id": "e2bbffb2-5bd7-417d-8310-70a01f26550e",
   "metadata": {},
   "outputs": [],
   "source": [
    "# Defining the columns I want to retrieve unique values for\n",
    "\n",
    "columns_to_check = ['platform', 'level_1', 'level_2', 'level_3']\n",
    "\n",
    "# Loop through each specified column and print unique values\n",
    "\n",
    "for column in columns_to_check:\n",
    "    unique_values = psychographics[column].unique()\n",
    "    print(f\"Unique values in '{column}':\")\n",
    "    print(unique_values)\n",
    "    print(\"\\n\")"
   ]
  },
  {
   "cell_type": "code",
   "execution_count": null,
   "id": "bf069248-cf4f-4e44-9ccb-2dc87d723cb6",
   "metadata": {},
   "outputs": [],
   "source": [
    "# Check for duplicate values in the 'country_name' column\n",
    "duplicates = psychographics['user_id'].duplicated()\n",
    "\n",
    "# Display rows with duplicates\n",
    "print(psychographics[duplicates])\n",
    "\n",
    "# If you want to check how many duplicate values are there:\n",
    "print(f\"Number of duplicate values: {duplicates.sum()}\")"
   ]
  },
  {
   "cell_type": "markdown",
   "id": "7fe7d6dc-127c-4efb-9a2e-f6ebd6496044",
   "metadata": {},
   "source": [
    "# plays"
   ]
  },
  {
   "cell_type": "code",
   "execution_count": null,
   "id": "2f861405-c740-4c2d-920b-d846ebe42a26",
   "metadata": {},
   "outputs": [],
   "source": [
    "plays.shape"
   ]
  },
  {
   "cell_type": "code",
   "execution_count": null,
   "id": "b9df884c-f3d8-4053-b362-058f796de205",
   "metadata": {},
   "outputs": [],
   "source": [
    "plays.columns"
   ]
  },
  {
   "cell_type": "code",
   "execution_count": null,
   "id": "6b0808f7-bcaf-488a-a4ad-6e77edd00cf7",
   "metadata": {},
   "outputs": [],
   "source": [
    "nan_counts = plays.isna().sum()\n",
    "print(\"NaN counts for each column:\")\n",
    "print(nan_counts)"
   ]
  },
  {
   "cell_type": "code",
   "execution_count": null,
   "id": "31cfca31-6e9c-410f-8995-bf998376c774",
   "metadata": {},
   "outputs": [],
   "source": [
    "plays['platform'].unique()"
   ]
  },
  {
   "cell_type": "markdown",
   "id": "c762cf81-8817-4205-84a5-18f35833f216",
   "metadata": {},
   "source": [
    "# user"
   ]
  },
  {
   "cell_type": "code",
   "execution_count": null,
   "id": "e0c560b2-55c4-4e0e-9f44-98c6dfbefcec",
   "metadata": {},
   "outputs": [],
   "source": [
    "user.shape"
   ]
  },
  {
   "cell_type": "code",
   "execution_count": null,
   "id": "bb9954e9-ce84-48b6-9284-cfb3abc88f93",
   "metadata": {},
   "outputs": [],
   "source": [
    "user.columns"
   ]
  },
  {
   "cell_type": "code",
   "execution_count": null,
   "id": "0d710cc0-b6fa-4750-9af2-55f0b251f1ae",
   "metadata": {},
   "outputs": [],
   "source": [
    "nan_counts = user.isna().sum()\n",
    "print(\"NaN counts for each column:\")\n",
    "print(nan_counts)"
   ]
  },
  {
   "cell_type": "markdown",
   "id": "f94aee76-5d00-4001-a117-48782707cbcd",
   "metadata": {},
   "source": [
    "Here I'm trying merge this dataset with the assets.csv to get details about what shows are frequently viewed in which country, so on and so forth."
   ]
  },
  {
   "cell_type": "code",
   "execution_count": null,
   "id": "a4f07b5c-a352-405c-b36e-2fe3a4ff46ee",
   "metadata": {},
   "outputs": [],
   "source": [
    "user['country_code'].unique()"
   ]
  },
  {
   "cell_type": "code",
   "execution_count": null,
   "id": "85d56099-92b5-46a5-90f2-e6effd291b31",
   "metadata": {},
   "outputs": [],
   "source": [
    "# Create a dictionary to map country codes to their full names\n",
    "country_name = {\n",
    "    'ID': 'Indonesia',\n",
    "    'MY': 'Malaysia',\n",
    "    'PH': 'Philippines',\n",
    "    'TH': 'Thailand',\n",
    "    'PK': 'Pakistan',\n",
    "    'BD': 'Bangladesh',\n",
    "    'MM': 'Myanmar',\n",
    "    'VN': 'Vietnam',\n",
    "    'KH': 'Cambodia',\n",
    "    'NP': 'Nepal',\n",
    "    'MV': 'Maldives',\n",
    "    'EG': 'Egypt',\n",
    "    'SA': 'Saudi Arabia',\n",
    "    'MA': 'Morocco',\n",
    "    'LK': 'Sri Lanka',\n",
    "    'IQ': 'Iraq',\n",
    "    'TZ': 'Tanzania',\n",
    "    'UG': 'Uganda',\n",
    "    'KE': 'Kenya',\n",
    "    'GH': 'Ghana',\n",
    "    'NG': 'Nigeria',\n",
    "    'SD': 'Sudan',\n",
    "    'ZW': 'Zimbabwe',\n",
    "    'LA': 'Laos',\n",
    "    'BH': 'Bahrain',\n",
    "    'BN': 'Brunei',\n",
    "    'SG': 'Singapore',\n",
    "    'ET': 'Ethiopia',\n",
    "    'KW': 'Kuwait',\n",
    "    'JO': 'Jordan',\n",
    "    'MU': 'Mauritius',\n",
    "    'LB': 'Lebanon',\n",
    "    'US': 'United States',\n",
    "    'ZM': 'Zambia',\n",
    "    'JP': 'Japan',\n",
    "    'IN': 'India',\n",
    "    'KR': 'South Korea',\n",
    "    'GB': 'United Kingdom',\n",
    "    'QA': 'Qatar',\n",
    "    'TN': 'Tunisia'\n",
    "}\n",
    "\n",
    "# Replace the country codes in the 'country_code' column\n",
    "user['country_code'] = user['country_code'].replace(country_name)\n",
    "\n",
    "# Display the updated DataFrame\n",
    "user.head(1)"
   ]
  },
  {
   "cell_type": "code",
   "execution_count": null,
   "id": "896dd8e0-e915-4df5-939e-9731b9de2130",
   "metadata": {},
   "outputs": [],
   "source": [
    "# changing the column name\n",
    "\n",
    "user.rename(columns={'country_code': 'country_name'}, inplace=True)\n",
    "user.head(1)"
   ]
  },
  {
   "cell_type": "code",
   "execution_count": null,
   "id": "6c585a2e-f9d2-493e-ab41-d040bb61ca59",
   "metadata": {},
   "outputs": [],
   "source": [
    "# Check for duplicate values in the 'country_name' column\n",
    "duplicates = user['country_name'].duplicated()\n",
    "\n",
    "# Display rows with duplicates\n",
    "print(user[duplicates])\n",
    "\n",
    "# If you want to check how many duplicate values are there:\n",
    "print(f\"Number of duplicate values: {duplicates.sum()}\")"
   ]
  },
  {
   "cell_type": "markdown",
   "id": "f19e52f5-61be-499c-87b9-eaa404727e6b",
   "metadata": {},
   "source": [
    "\n",
    "By now I have understood my data well enough to realize what kind of basic analysis I want to do for now and in order to reach here I have focused the data reorganizing process by making it more understandable to me, which included stacking data in levels so I can see it properly how data has been grouped, renaming some columns for better understanding, by getting rid of some of the NaN values. By doing so, the data is now clearer and will be easier to visualize due to it's improved interpretability of visual outputs. Future visualizations will be supported by this work, which will enable me to develop meaningful graphs and dashboards that highlight the most important features of the data. Now that I can understand my dataset properlly, I want to address some of the initial questions that I can and want to address for now.\n",
    "\n",
    "1. What is the frequency of different genre being viwed by different age group, income group, country?\n",
    "2. What are the average number of data being viewed by sections of society?\n",
    "3. Which platform are the most most used and where?\n",
    "\n",
    "I might find some additional questions to be asked if i will find any more relationship in the data.\n",
    "\n",
    "Overall I am satisfied with my milestone and feel confident enough to move forward with this project."
   ]
  },
  {
   "cell_type": "code",
   "execution_count": null,
   "id": "6f584066-e271-4c3d-b2a0-bebe3350ba12",
   "metadata": {},
   "outputs": [],
   "source": []
  }
 ],
 "metadata": {
  "kernelspec": {
   "display_name": "Python 3 (ipykernel)",
   "language": "python",
   "name": "python3"
  },
  "language_info": {
   "codemirror_mode": {
    "name": "ipython",
    "version": 3
   },
   "file_extension": ".py",
   "mimetype": "text/x-python",
   "name": "python",
   "nbconvert_exporter": "python",
   "pygments_lexer": "ipython3",
   "version": "3.12.4"
  }
 },
 "nbformat": 4,
 "nbformat_minor": 5
}
